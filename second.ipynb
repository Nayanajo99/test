{
  "nbformat": 4,
  "nbformat_minor": 0,
  "metadata": {
    "colab": {
      "provenance": [],
      "authorship_tag": "ABX9TyPg/54zhHorwu7fD8pBRrb8",
      "include_colab_link": true
    },
    "kernelspec": {
      "name": "python3",
      "display_name": "Python 3"
    },
    "language_info": {
      "name": "python"
    }
  },
  "cells": [
    {
      "cell_type": "markdown",
      "metadata": {
        "id": "view-in-github",
        "colab_type": "text"
      },
      "source": [
        "<a href=\"https://colab.research.google.com/github/Nayanajo99/test/blob/main/second.ipynb\" target=\"_parent\"><img src=\"https://colab.research.google.com/assets/colab-badge.svg\" alt=\"Open In Colab\"/></a>"
      ]
    },
    {
      "cell_type": "markdown",
      "source": [],
      "metadata": {
        "id": "Iq-YMUJjTY9Z"
      }
    },
    {
      "cell_type": "markdown",
      "source": [
        "A classification problem. We'll build a model to classify whether a person has diabetes based on features like age, BMI, and glucose level."
      ],
      "metadata": {
        "id": "e5hD0XKCTasF"
      }
    },
    {
      "cell_type": "markdown",
      "source": [
        " Set Up the Environment\n",
        "import the necessary Python libraries:"
      ],
      "metadata": {
        "id": "0Dbdj1MRT1eU"
      }
    },
    {
      "cell_type": "code",
      "source": [
        "import numpy as np\n",
        "import pandas as pd\n",
        "import matplotlib.pyplot as plt\n",
        "from sklearn.model_selection import train_test_split\n",
        "from sklearn.preprocessing import StandardScaler\n",
        "from sklearn.linear_model import LogisticRegression\n",
        "from sklearn.metrics import accuracy_score, confusion_matrix, classification_report\n"
      ],
      "metadata": {
        "id": "fkMatA6iThiV"
      },
      "execution_count": 2,
      "outputs": []
    },
    {
      "cell_type": "markdown",
      "source": [
        "Create the Dataset:\n",
        " create a synthetic dataset. For simplicity, we will create a small dataset manually:"
      ],
      "metadata": {
        "id": "rGkXDYIiT4dP"
      }
    },
    {
      "cell_type": "code",
      "source": [
        "# Creating a simple dataset\n",
        "data = {\n",
        "    'Age': [25, 30, 35, 40, 45, 50, 55, 60, 65, 70],\n",
        "    'BMI': [18.5, 24.0, 30.0, 35.0, 24.5, 28.0, 32.0, 31.0, 29.0, 36.5],\n",
        "    'Glucose': [85, 90, 95, 100, 110, 115, 130, 140, 150, 160],\n",
        "    'Diabetes': [0, 0, 0, 0, 1, 1, 1, 1, 1, 1]  # 0: No diabetes, 1: Has diabetes\n",
        "}\n",
        "\n",
        "df = pd.DataFrame(data)\n",
        "print(df)\n"
      ],
      "metadata": {
        "colab": {
          "base_uri": "https://localhost:8080/"
        },
        "id": "bGdCEf43Tl7j",
        "outputId": "fb7484a1-6015-4a3c-c2d3-14d37ea71bef"
      },
      "execution_count": 3,
      "outputs": [
        {
          "output_type": "stream",
          "name": "stdout",
          "text": [
            "   Age   BMI  Glucose  Diabetes\n",
            "0   25  18.5       85         0\n",
            "1   30  24.0       90         0\n",
            "2   35  30.0       95         0\n",
            "3   40  35.0      100         0\n",
            "4   45  24.5      110         1\n",
            "5   50  28.0      115         1\n",
            "6   55  32.0      130         1\n",
            "7   60  31.0      140         1\n",
            "8   65  29.0      150         1\n",
            "9   70  36.5      160         1\n"
          ]
        }
      ]
    },
    {
      "cell_type": "markdown",
      "source": [
        "Data Exploration\n",
        "You can inspect the data to ensure it's correctly loaded:"
      ],
      "metadata": {
        "id": "mtOP_pEbUKtM"
      }
    },
    {
      "cell_type": "code",
      "source": [
        "print(df.describe())\n"
      ],
      "metadata": {
        "colab": {
          "base_uri": "https://localhost:8080/"
        },
        "id": "7UOV4BaLUD84",
        "outputId": "ae88cd34-ead4-4b65-9517-195145487f2d"
      },
      "execution_count": 4,
      "outputs": [
        {
          "output_type": "stream",
          "name": "stdout",
          "text": [
            "             Age        BMI     Glucose   Diabetes\n",
            "count  10.000000  10.000000   10.000000  10.000000\n",
            "mean   47.500000  28.850000  117.500000   0.600000\n",
            "std    15.138252   5.400874   26.273138   0.516398\n",
            "min    25.000000  18.500000   85.000000   0.000000\n",
            "25%    36.250000  25.375000   96.250000   0.000000\n",
            "50%    47.500000  29.500000  112.500000   1.000000\n",
            "75%    58.750000  31.750000  137.500000   1.000000\n",
            "max    70.000000  36.500000  160.000000   1.000000\n"
          ]
        }
      ]
    },
    {
      "cell_type": "markdown",
      "source": [
        " Data Preprocessing\n",
        "Standardize the feature values to ensure that each feature contributes equally to the distance calculations in the model:"
      ],
      "metadata": {
        "id": "15hEjZzJUT_r"
      }
    },
    {
      "cell_type": "code",
      "source": [
        "# Features and target variable\n",
        "X = df[['Age', 'BMI', 'Glucose']]  # Features (independent variables)\n",
        "y = df['Diabetes']  # Target variable (dependent variable)\n",
        "\n",
        "# Standardize the features\n",
        "scaler = StandardScaler()\n",
        "X = scaler.fit_transform(X)\n",
        "\n",
        "# Split the data into training and testing sets (80% training, 20% testing)\n",
        "X_train, X_test, y_train, y_test = train_test_split(X, y, test_size=0.2, random_state=42)\n"
      ],
      "metadata": {
        "id": "eeOIupfDUZRb"
      },
      "execution_count": 5,
      "outputs": []
    },
    {
      "cell_type": "markdown",
      "source": [
        "Train the Model\n",
        "train a logistic regression model:\n",
        "\n"
      ],
      "metadata": {
        "id": "mpLcdTchUirE"
      }
    },
    {
      "cell_type": "code",
      "source": [
        "# Initialize and train the logistic regression model\n",
        "model = LogisticRegression()\n",
        "model.fit(X_train, y_train)\n"
      ],
      "metadata": {
        "colab": {
          "base_uri": "https://localhost:8080/",
          "height": 75
        },
        "id": "U6zonjeNUiX-",
        "outputId": "06331244-b0b0-4eac-9289-6ac4e1f5cbbc"
      },
      "execution_count": 6,
      "outputs": [
        {
          "output_type": "execute_result",
          "data": {
            "text/plain": [
              "LogisticRegression()"
            ],
            "text/html": [
              "<style>#sk-container-id-1 {color: black;}#sk-container-id-1 pre{padding: 0;}#sk-container-id-1 div.sk-toggleable {background-color: white;}#sk-container-id-1 label.sk-toggleable__label {cursor: pointer;display: block;width: 100%;margin-bottom: 0;padding: 0.3em;box-sizing: border-box;text-align: center;}#sk-container-id-1 label.sk-toggleable__label-arrow:before {content: \"▸\";float: left;margin-right: 0.25em;color: #696969;}#sk-container-id-1 label.sk-toggleable__label-arrow:hover:before {color: black;}#sk-container-id-1 div.sk-estimator:hover label.sk-toggleable__label-arrow:before {color: black;}#sk-container-id-1 div.sk-toggleable__content {max-height: 0;max-width: 0;overflow: hidden;text-align: left;background-color: #f0f8ff;}#sk-container-id-1 div.sk-toggleable__content pre {margin: 0.2em;color: black;border-radius: 0.25em;background-color: #f0f8ff;}#sk-container-id-1 input.sk-toggleable__control:checked~div.sk-toggleable__content {max-height: 200px;max-width: 100%;overflow: auto;}#sk-container-id-1 input.sk-toggleable__control:checked~label.sk-toggleable__label-arrow:before {content: \"▾\";}#sk-container-id-1 div.sk-estimator input.sk-toggleable__control:checked~label.sk-toggleable__label {background-color: #d4ebff;}#sk-container-id-1 div.sk-label input.sk-toggleable__control:checked~label.sk-toggleable__label {background-color: #d4ebff;}#sk-container-id-1 input.sk-hidden--visually {border: 0;clip: rect(1px 1px 1px 1px);clip: rect(1px, 1px, 1px, 1px);height: 1px;margin: -1px;overflow: hidden;padding: 0;position: absolute;width: 1px;}#sk-container-id-1 div.sk-estimator {font-family: monospace;background-color: #f0f8ff;border: 1px dotted black;border-radius: 0.25em;box-sizing: border-box;margin-bottom: 0.5em;}#sk-container-id-1 div.sk-estimator:hover {background-color: #d4ebff;}#sk-container-id-1 div.sk-parallel-item::after {content: \"\";width: 100%;border-bottom: 1px solid gray;flex-grow: 1;}#sk-container-id-1 div.sk-label:hover label.sk-toggleable__label {background-color: #d4ebff;}#sk-container-id-1 div.sk-serial::before {content: \"\";position: absolute;border-left: 1px solid gray;box-sizing: border-box;top: 0;bottom: 0;left: 50%;z-index: 0;}#sk-container-id-1 div.sk-serial {display: flex;flex-direction: column;align-items: center;background-color: white;padding-right: 0.2em;padding-left: 0.2em;position: relative;}#sk-container-id-1 div.sk-item {position: relative;z-index: 1;}#sk-container-id-1 div.sk-parallel {display: flex;align-items: stretch;justify-content: center;background-color: white;position: relative;}#sk-container-id-1 div.sk-item::before, #sk-container-id-1 div.sk-parallel-item::before {content: \"\";position: absolute;border-left: 1px solid gray;box-sizing: border-box;top: 0;bottom: 0;left: 50%;z-index: -1;}#sk-container-id-1 div.sk-parallel-item {display: flex;flex-direction: column;z-index: 1;position: relative;background-color: white;}#sk-container-id-1 div.sk-parallel-item:first-child::after {align-self: flex-end;width: 50%;}#sk-container-id-1 div.sk-parallel-item:last-child::after {align-self: flex-start;width: 50%;}#sk-container-id-1 div.sk-parallel-item:only-child::after {width: 0;}#sk-container-id-1 div.sk-dashed-wrapped {border: 1px dashed gray;margin: 0 0.4em 0.5em 0.4em;box-sizing: border-box;padding-bottom: 0.4em;background-color: white;}#sk-container-id-1 div.sk-label label {font-family: monospace;font-weight: bold;display: inline-block;line-height: 1.2em;}#sk-container-id-1 div.sk-label-container {text-align: center;}#sk-container-id-1 div.sk-container {/* jupyter's `normalize.less` sets `[hidden] { display: none; }` but bootstrap.min.css set `[hidden] { display: none !important; }` so we also need the `!important` here to be able to override the default hidden behavior on the sphinx rendered scikit-learn.org. See: https://github.com/scikit-learn/scikit-learn/issues/21755 */display: inline-block !important;position: relative;}#sk-container-id-1 div.sk-text-repr-fallback {display: none;}</style><div id=\"sk-container-id-1\" class=\"sk-top-container\"><div class=\"sk-text-repr-fallback\"><pre>LogisticRegression()</pre><b>In a Jupyter environment, please rerun this cell to show the HTML representation or trust the notebook. <br />On GitHub, the HTML representation is unable to render, please try loading this page with nbviewer.org.</b></div><div class=\"sk-container\" hidden><div class=\"sk-item\"><div class=\"sk-estimator sk-toggleable\"><input class=\"sk-toggleable__control sk-hidden--visually\" id=\"sk-estimator-id-1\" type=\"checkbox\" checked><label for=\"sk-estimator-id-1\" class=\"sk-toggleable__label sk-toggleable__label-arrow\">LogisticRegression</label><div class=\"sk-toggleable__content\"><pre>LogisticRegression()</pre></div></div></div></div></div>"
            ]
          },
          "metadata": {},
          "execution_count": 6
        }
      ]
    },
    {
      "cell_type": "markdown",
      "source": [
        "Make Predictions\n",
        "Use the trained model to predict whether individuals in the test set have diabetes:\n",
        "\n"
      ],
      "metadata": {
        "id": "tg7EMv2nUpxa"
      }
    },
    {
      "cell_type": "code",
      "source": [
        "# Predict diabetes status for the test set\n",
        "y_pred = model.predict(X_test)\n",
        "print(\"Predicted Diabetes Status:\", y_pred)\n",
        "print(\"Actual Diabetes Status:\", y_test.values)\n"
      ],
      "metadata": {
        "colab": {
          "base_uri": "https://localhost:8080/"
        },
        "id": "4rTVQiViUuK6",
        "outputId": "fe048d30-8711-4583-8007-48afaf175637"
      },
      "execution_count": 7,
      "outputs": [
        {
          "output_type": "stream",
          "name": "stdout",
          "text": [
            "Predicted Diabetes Status: [1 0]\n",
            "Actual Diabetes Status: [1 0]\n"
          ]
        }
      ]
    },
    {
      "cell_type": "markdown",
      "source": [
        "Evaluate the Model\n",
        "Evaluate the model's performance using accuracy, confusion matrix, and a classification report:"
      ],
      "metadata": {
        "id": "UYST1Mv5U0Qi"
      }
    },
    {
      "cell_type": "code",
      "source": [
        "# Calculate accuracy\n",
        "accuracy = accuracy_score(y_test, y_pred)\n",
        "print(f'Accuracy: {accuracy * 100:.2f}%')\n",
        "\n",
        "# Confusion Matrix\n",
        "cm = confusion_matrix(y_test, y_pred)\n",
        "print(\"Confusion Matrix:\")\n",
        "print(cm)\n",
        "\n",
        "# Classification Report\n",
        "report = classification_report(y_test, y_pred)\n",
        "print(\"Classification Report:\")\n",
        "print(report)\n"
      ],
      "metadata": {
        "colab": {
          "base_uri": "https://localhost:8080/"
        },
        "id": "MieyOneHU1z-",
        "outputId": "2fda789b-43dc-4831-e989-caed4dce8b62"
      },
      "execution_count": 8,
      "outputs": [
        {
          "output_type": "stream",
          "name": "stdout",
          "text": [
            "Accuracy: 100.00%\n",
            "Confusion Matrix:\n",
            "[[1 0]\n",
            " [0 1]]\n",
            "Classification Report:\n",
            "              precision    recall  f1-score   support\n",
            "\n",
            "           0       1.00      1.00      1.00         1\n",
            "           1       1.00      1.00      1.00         1\n",
            "\n",
            "    accuracy                           1.00         2\n",
            "   macro avg       1.00      1.00      1.00         2\n",
            "weighted avg       1.00      1.00      1.00         2\n",
            "\n"
          ]
        }
      ]
    },
    {
      "cell_type": "markdown",
      "source": [
        "Visualize the Confusion Matrix\n",
        "Visualizing the confusion matrix can help you understand how well the model is performing:"
      ],
      "metadata": {
        "id": "So3G7iOZU92S"
      }
    },
    {
      "cell_type": "code",
      "source": [
        "import seaborn as sns\n",
        "\n",
        "plt.figure(figsize=(6,4))\n",
        "sns.heatmap(cm, annot=True, fmt=\"d\", cmap=\"Blues\", xticklabels=['No Diabetes', 'Diabetes'], yticklabels=['No Diabetes', 'Diabetes'])\n",
        "plt.ylabel('Actual')\n",
        "plt.xlabel('Predicted')\n",
        "plt.title('Confusion Matrix')\n",
        "plt.show()\n"
      ],
      "metadata": {
        "colab": {
          "base_uri": "https://localhost:8080/",
          "height": 410
        },
        "id": "9AUXSjp7VBbM",
        "outputId": "bbb237b3-afe4-4581-c4ba-7faf20021d37"
      },
      "execution_count": 9,
      "outputs": [
        {
          "output_type": "display_data",
          "data": {
            "text/plain": [
              "<Figure size 600x400 with 2 Axes>"
            ],
            "image/png": "[encoded data removed]"
          },
          "metadata": {}
        }
      ]
    },
    {
      "cell_type": "code",
      "source": [
        "# Import the necessary libraries (if not already done)\n",
        "import numpy as np\n",
        "import pandas as pd\n",
        "from sklearn.preprocessing import StandardScaler\n",
        "from sklearn.linear_model import LogisticRegression\n",
        "from sklearn.model_selection import train_test_split\n",
        "from sklearn.metrics import accuracy_score, confusion_matrix, classification_report\n",
        "\n",
        "# Let's assume the model and scaler have already been trained.\n",
        "# You can include the full training code from the previous steps if needed.\n",
        "\n",
        "# Allow the user to enter new data\n",
        "age = float(input(\"Enter Age: \"))\n",
        "bmi = float(input(\"Enter BMI: \"))\n",
        "glucose = float(input(\"Enter Glucose level: \"))\n",
        "\n",
        "# Combine the user inputs into a NumPy array\n",
        "new_data = np.array([[age, bmi, glucose]])\n",
        "\n",
        "# Standardize the new data using the same scaler\n",
        "new_data_standardized = scaler.transform(new_data)\n",
        "\n",
        "# Predict diabetes status for the new data point\n",
        "new_prediction = model.predict(new_data_standardized)\n",
        "new_prediction_proba = model.predict_proba(new_data_standardized)\n",
        "\n",
        "# Output the prediction\n",
        "diabetes_status = \"Diabetes\" if new_prediction[0] == 1 else \"No Diabetes\"\n",
        "print(f'\\nPredicted Diabetes Status: {diabetes_status}')\n",
        "print(f'Prediction Probability: {new_prediction_proba[0]}')\n"
      ],
      "metadata": {
        "colab": {
          "base_uri": "https://localhost:8080/"
        },
        "id": "K9Fl8XjBVKjh",
        "outputId": "a036522d-51a7-4fa2-8a55-98a4ab8e9ad6"
      },
      "execution_count": 12,
      "outputs": [
        {
          "output_type": "stream",
          "name": "stdout",
          "text": [
            "Enter Age: 28\n",
            "Enter BMI: 80\n",
            "Enter Glucose level: 200\n",
            "\n",
            "Predicted Diabetes Status: Diabetes\n",
            "Prediction Probability: [0.49126712 0.50873288]\n"
          ]
        },
        {
          "output_type": "stream",
          "name": "stderr",
          "text": [
            "/usr/local/lib/python3.10/dist-packages/sklearn/base.py:465: UserWarning: X does not have valid feature names, but StandardScaler was fitted with feature names\n",
            "  warnings.warn(\n"
          ]
        }
      ]
    }
  ]
}